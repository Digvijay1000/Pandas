{
 "cells": [
  {
   "cell_type": "markdown",
   "id": "a2df5a06",
   "metadata": {},
   "source": [
    "## Pandas for ML"
   ]
  },
  {
   "cell_type": "markdown",
   "id": "133ce9b6",
   "metadata": {},
   "source": [
    "###### What is Pandas?\n",
    "\n",
    "1. It is a Python library.\n",
    "\n",
    "2. Used to analyze data.\n",
    "\n",
    "Pandas is a Python library used for **working with data sets**.\n",
    "\n",
    "It has functions for **analyzing, cleaning, exploring, and manipulating data**.\n",
    "\n",
    "The name \"Pandas\" has a reference to both **\"Panel Data\"**, and \"Python Data Analysis\" and was created by **Wes McKinney in 2008**.\n",
    "\n",
    "###### Why?\n",
    "\n",
    "    Pandas allows us to analyze big data and make conclusions based on statistical theories.\n",
    "\n",
    "    Pandas can clean messy data sets, and make them readable and relevant.\n",
    "\n",
    "    Relevant data is very important in data science.\n",
    "    \n",
    "    \n",
    "Pandas gives you answers about the data. Like:\n",
    "\n",
    "    Is there a correlation between two or more columns?\n",
    "    What is average value?\n",
    "    Max value?\n",
    "    Min value?\n",
    "\n",
    "Pandas are also able to delete rows that are not relevant, or contains wrong values, like empty or NULL values. This is called cleaning the data."
   ]
  },
  {
   "cell_type": "markdown",
   "id": "bc62faa0",
   "metadata": {},
   "source": [
    "###### Install pandas"
   ]
  },
  {
   "cell_type": "code",
   "execution_count": 2,
   "id": "991f0a84",
   "metadata": {},
   "outputs": [],
   "source": [
    "# ! pip install pandas"
   ]
  },
  {
   "cell_type": "code",
   "execution_count": 3,
   "id": "48d7b15d",
   "metadata": {},
   "outputs": [],
   "source": [
    "# import\n",
    "import pandas as pd\n",
    "import numpy as np"
   ]
  },
  {
   "cell_type": "code",
   "execution_count": 4,
   "id": "e0978deb",
   "metadata": {},
   "outputs": [
    {
     "name": "stdout",
     "output_type": "stream",
     "text": [
      "2.0.1\n"
     ]
    }
   ],
   "source": [
    "print(pd.__version__)"
   ]
  },
  {
   "cell_type": "code",
   "execution_count": 5,
   "id": "e646a4b5",
   "metadata": {},
   "outputs": [
    {
     "name": "stdout",
     "output_type": "stream",
     "text": [
      "1.24.2\n"
     ]
    }
   ],
   "source": [
    "print(np.__version__)"
   ]
  },
  {
   "cell_type": "markdown",
   "id": "4f6b8ac9",
   "metadata": {},
   "source": [
    " Two data structures in pandas :\n",
    "            \n",
    "            1. Series\n",
    "            2. Dataframe"
   ]
  },
  {
   "cell_type": "markdown",
   "id": "176c14b5",
   "metadata": {},
   "source": [
    "### Series\n",
    "###### what is series?\n",
    "\n",
    "    Pandas series is like a column in a table.\n",
    "    It is one dimentional array holding data of any type."
   ]
  },
  {
   "cell_type": "code",
   "execution_count": 8,
   "id": "31709a33",
   "metadata": {},
   "outputs": [
    {
     "data": {
      "text/plain": [
       "0    1\n",
       "1    2\n",
       "2    3\n",
       "3    4\n",
       "4    5\n",
       "dtype: int64"
      ]
     },
     "execution_count": 8,
     "metadata": {},
     "output_type": "execute_result"
    }
   ],
   "source": [
    "s=pd.Series([1,2,3,4,5])\n",
    "s\n",
    "# default numbering is used for naming series location(index_number)"
   ]
  },
  {
   "cell_type": "code",
   "execution_count": 9,
   "id": "9f1c59d8",
   "metadata": {},
   "outputs": [
    {
     "name": "stdout",
     "output_type": "stream",
     "text": [
      "<class 'pandas.core.series.Series'>\n"
     ]
    }
   ],
   "source": [
    "print(type(s))"
   ]
  },
  {
   "cell_type": "markdown",
   "id": "eecd2496",
   "metadata": {},
   "source": [
    "###### access element from series"
   ]
  },
  {
   "cell_type": "code",
   "execution_count": 10,
   "id": "a0623875",
   "metadata": {},
   "outputs": [
    {
     "data": {
      "text/plain": [
       "1"
      ]
     },
     "execution_count": 10,
     "metadata": {},
     "output_type": "execute_result"
    }
   ],
   "source": [
    "s[0]"
   ]
  },
  {
   "cell_type": "code",
   "execution_count": 11,
   "id": "80522800",
   "metadata": {},
   "outputs": [
    {
     "data": {
      "text/plain": [
       "4"
      ]
     },
     "execution_count": 11,
     "metadata": {},
     "output_type": "execute_result"
    }
   ],
   "source": [
    "s[3]"
   ]
  },
  {
   "cell_type": "code",
   "execution_count": 12,
   "id": "dec5fd13",
   "metadata": {},
   "outputs": [
    {
     "data": {
      "text/plain": [
       "5"
      ]
     },
     "execution_count": 12,
     "metadata": {},
     "output_type": "execute_result"
    }
   ],
   "source": [
    "s[4]"
   ]
  },
  {
   "cell_type": "markdown",
   "id": "ed66a997",
   "metadata": {},
   "source": [
    "###### You can give name to series index"
   ]
  },
  {
   "cell_type": "code",
   "execution_count": 15,
   "id": "e035c464",
   "metadata": {},
   "outputs": [
    {
     "data": {
      "text/plain": [
       "A    10\n",
       "B    20\n",
       "C    30\n",
       "D    40\n",
       "E    50\n",
       "dtype: int64"
      ]
     },
     "execution_count": 15,
     "metadata": {},
     "output_type": "execute_result"
    }
   ],
   "source": [
    "l=[10,20,30,40,50]\n",
    "new_s=pd.Series(l,index=['A','B','C','D','E'])\n",
    "new_s"
   ]
  },
  {
   "cell_type": "code",
   "execution_count": 18,
   "id": "e29ce5cf",
   "metadata": {},
   "outputs": [
    {
     "data": {
      "text/plain": [
       "aja    10\n",
       "aka    20\n",
       "shd    30\n",
       "rtd    40\n",
       "rhx    50\n",
       "dtype: int64"
      ]
     },
     "execution_count": 18,
     "metadata": {},
     "output_type": "execute_result"
    }
   ],
   "source": [
    "list1=[1,2,3,4,5]\n",
    "ns=pd.Series(l,index=['aja','aka','shd','rtd','rhx'])\n",
    "ns"
   ]
  },
  {
   "cell_type": "markdown",
   "id": "b6365dd0",
   "metadata": {},
   "source": [
    "###### Access Items using labels"
   ]
  },
  {
   "cell_type": "code",
   "execution_count": 19,
   "id": "7c6bb433",
   "metadata": {},
   "outputs": [
    {
     "data": {
      "text/plain": [
       "A    10\n",
       "B    20\n",
       "C    30\n",
       "D    40\n",
       "E    50\n",
       "dtype: int64"
      ]
     },
     "execution_count": 19,
     "metadata": {},
     "output_type": "execute_result"
    }
   ],
   "source": [
    "new_s"
   ]
  },
  {
   "cell_type": "code",
   "execution_count": 20,
   "id": "3bfa2448",
   "metadata": {},
   "outputs": [
    {
     "data": {
      "text/plain": [
       "10"
      ]
     },
     "execution_count": 20,
     "metadata": {},
     "output_type": "execute_result"
    }
   ],
   "source": [
    "new_s['A']"
   ]
  },
  {
   "cell_type": "code",
   "execution_count": 21,
   "id": "27c273b9",
   "metadata": {},
   "outputs": [
    {
     "data": {
      "text/plain": [
       "20"
      ]
     },
     "execution_count": 21,
     "metadata": {},
     "output_type": "execute_result"
    }
   ],
   "source": [
    "new_s['B']"
   ]
  },
  {
   "cell_type": "markdown",
   "id": "d0f8aae2",
   "metadata": {},
   "source": [
    "###### Key/Value Objects as Series"
   ]
  },
  {
   "cell_type": "code",
   "execution_count": 22,
   "id": "d9e8b94e",
   "metadata": {},
   "outputs": [
    {
     "data": {
      "text/plain": [
       "Digvijay    10\n",
       "Umesh       11\n",
       "Rahul       16\n",
       "dtype: int64"
      ]
     },
     "execution_count": 22,
     "metadata": {},
     "output_type": "execute_result"
    }
   ],
   "source": [
    "emp={'Digvijay':10,'Umesh':11,'Rahul':16}\n",
    "emp_s=pd.Series(emp)\n",
    "emp_s"
   ]
  },
  {
   "cell_type": "code",
   "execution_count": 23,
   "id": "22315ca6",
   "metadata": {},
   "outputs": [
    {
     "data": {
      "text/plain": [
       "day1    500\n",
       "day2    380\n",
       "day3    480\n",
       "day4    500\n",
       "dtype: int64"
      ]
     },
     "execution_count": 23,
     "metadata": {},
     "output_type": "execute_result"
    }
   ],
   "source": [
    "calories = {\n",
    "    'day1': 500,\n",
    "    'day2': 380,\n",
    "    'day3': 480,\n",
    "    'day4': 500\n",
    "}\n",
    "\n",
    "cal_s=pd.Series(calories)\n",
    "cal_s"
   ]
  },
  {
   "cell_type": "code",
   "execution_count": 24,
   "id": "a02b1d19",
   "metadata": {},
   "outputs": [
    {
     "data": {
      "text/plain": [
       "480"
      ]
     },
     "execution_count": 24,
     "metadata": {},
     "output_type": "execute_result"
    }
   ],
   "source": [
    "cal_s['day3']"
   ]
  },
  {
   "cell_type": "code",
   "execution_count": 25,
   "id": "42cf041b",
   "metadata": {},
   "outputs": [
    {
     "data": {
      "text/plain": [
       "day1    500\n",
       "day2    380\n",
       "dtype: int64"
      ]
     },
     "execution_count": 25,
     "metadata": {},
     "output_type": "execute_result"
    }
   ],
   "source": [
    "cal_s_new=pd.Series(cal_s, index=['day1','day2'])\n",
    "cal_s_new"
   ]
  },
  {
   "cell_type": "code",
   "execution_count": 26,
   "id": "27d08da3",
   "metadata": {},
   "outputs": [
    {
     "data": {
      "text/plain": [
       "380"
      ]
     },
     "execution_count": 26,
     "metadata": {},
     "output_type": "execute_result"
    }
   ],
   "source": [
    "cal_s_new['day2']"
   ]
  },
  {
   "cell_type": "code",
   "execution_count": 29,
   "id": "88fdc8ca",
   "metadata": {},
   "outputs": [],
   "source": [
    "cal_s_new['day1']=2800 # modified series"
   ]
  },
  {
   "cell_type": "code",
   "execution_count": 30,
   "id": "e162aea6",
   "metadata": {},
   "outputs": [
    {
     "data": {
      "text/plain": [
       "day1    2800\n",
       "day2     380\n",
       "dtype: int64"
      ]
     },
     "execution_count": 30,
     "metadata": {},
     "output_type": "execute_result"
    }
   ],
   "source": [
    "cal_s_new"
   ]
  },
  {
   "cell_type": "markdown",
   "id": "36203432",
   "metadata": {},
   "source": [
    "### DataFrame\n",
    "\n",
    "DataFrame : **Data sets in Pandas are usually multi-dimensional tables, called DataFrames**.\n",
    "\n",
    "Series is like a column, a **DataFrame is the whole table.**\n",
    "\n",
    "A Pandas DataFrame is a **2 dimensional data structure, like a 2 dimensional array, or a table with rows and columns.**"
   ]
  },
  {
   "cell_type": "code",
   "execution_count": null,
   "id": "5933e0d5",
   "metadata": {},
   "outputs": [],
   "source": []
  }
 ],
 "metadata": {
  "kernelspec": {
   "display_name": "Python 3 (ipykernel)",
   "language": "python",
   "name": "python3"
  },
  "language_info": {
   "codemirror_mode": {
    "name": "ipython",
    "version": 3
   },
   "file_extension": ".py",
   "mimetype": "text/x-python",
   "name": "python",
   "nbconvert_exporter": "python",
   "pygments_lexer": "ipython3",
   "version": "3.11.3"
  }
 },
 "nbformat": 4,
 "nbformat_minor": 5
}
