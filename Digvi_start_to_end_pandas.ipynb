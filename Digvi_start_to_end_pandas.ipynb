{
 "cells": [
  {
   "cell_type": "markdown",
   "id": "caaa4668",
   "metadata": {},
   "source": [
    "## Pandas for ML"
   ]
  },
  {
   "cell_type": "markdown",
   "id": "e062635f",
   "metadata": {},
   "source": [
    "###### What is Pandas?\n",
    "\n",
    "1. It is a Python library.\n",
    "\n",
    "2. Used to analyze data.\n",
    "\n",
    "Pandas is a Python library used for **working with data sets**.\n",
    "\n",
    "It has functions for **analyzing, cleaning, exploring, and manipulating data**.\n",
    "\n",
    "The name \"Pandas\" has a reference to both **\"Panel Data\"**, and \"Python Data Analysis\" and was created by **Wes McKinney in 2008**.\n",
    "\n",
    "###### Why?\n",
    "\n",
    "    Pandas allows us to analyze big data and make conclusions based on statistical theories.\n",
    "\n",
    "    Pandas can clean messy data sets, and make them readable and relevant.\n",
    "\n",
    "    Relevant data is very important in data science.\n",
    "    \n",
    "    \n",
    "Pandas gives you answers about the data. Like:\n",
    "\n",
    "    Is there a correlation between two or more columns?\n",
    "    What is average value?\n",
    "    Max value?\n",
    "    Min value?\n",
    "\n",
    "Pandas are also able to delete rows that are not relevant, or contains wrong values, like empty or NULL values. This is called cleaning the data."
   ]
  },
  {
   "cell_type": "markdown",
   "id": "ed394936",
   "metadata": {},
   "source": [
    "###### Install pandas"
   ]
  },
  {
   "cell_type": "code",
   "execution_count": 2,
   "id": "f2e95d61",
   "metadata": {},
   "outputs": [],
   "source": [
    "# ! pip install pandas"
   ]
  },
  {
   "cell_type": "code",
   "execution_count": 3,
   "id": "89c91339",
   "metadata": {},
   "outputs": [],
   "source": [
    "# import\n",
    "import pandas as pd\n",
    "import numpy as np"
   ]
  },
  {
   "cell_type": "code",
   "execution_count": 4,
   "id": "1147809b",
   "metadata": {},
   "outputs": [
    {
     "name": "stdout",
     "output_type": "stream",
     "text": [
      "2.0.1\n"
     ]
    }
   ],
   "source": [
    "print(pd.__version__)"
   ]
  },
  {
   "cell_type": "code",
   "execution_count": 5,
   "id": "dc42a10d",
   "metadata": {},
   "outputs": [
    {
     "name": "stdout",
     "output_type": "stream",
     "text": [
      "1.24.2\n"
     ]
    }
   ],
   "source": [
    "print(np.__version__)"
   ]
  },
  {
   "cell_type": "markdown",
   "id": "06f5ea72",
   "metadata": {},
   "source": [
    " Two data structures in pandas :\n",
    "            \n",
    "            1. Series\n",
    "            2. Dataframe"
   ]
  },
  {
   "cell_type": "markdown",
   "id": "d3d11712",
   "metadata": {},
   "source": [
    "### Series\n",
    "###### what is series?\n",
    "\n",
    "    Pandas series is like a column in a table.\n",
    "    It is one dimentional array holding data of any type."
   ]
  },
  {
   "cell_type": "code",
   "execution_count": 8,
   "id": "4b18ef08",
   "metadata": {},
   "outputs": [
    {
     "data": {
      "text/plain": [
       "0    1\n",
       "1    2\n",
       "2    3\n",
       "3    4\n",
       "4    5\n",
       "dtype: int64"
      ]
     },
     "execution_count": 8,
     "metadata": {},
     "output_type": "execute_result"
    }
   ],
   "source": [
    "s=pd.Series([1,2,3,4,5])\n",
    "s\n",
    "# default numbering is used for naming series location(index_number)"
   ]
  },
  {
   "cell_type": "code",
   "execution_count": 9,
   "id": "64cc38e9",
   "metadata": {},
   "outputs": [
    {
     "name": "stdout",
     "output_type": "stream",
     "text": [
      "<class 'pandas.core.series.Series'>\n"
     ]
    }
   ],
   "source": [
    "print(type(s))"
   ]
  },
  {
   "cell_type": "markdown",
   "id": "23726d28",
   "metadata": {},
   "source": [
    "###### access element from series"
   ]
  },
  {
   "cell_type": "code",
   "execution_count": 10,
   "id": "b7b85e3e",
   "metadata": {},
   "outputs": [
    {
     "data": {
      "text/plain": [
       "1"
      ]
     },
     "execution_count": 10,
     "metadata": {},
     "output_type": "execute_result"
    }
   ],
   "source": [
    "s[0]"
   ]
  },
  {
   "cell_type": "code",
   "execution_count": 11,
   "id": "75d15616",
   "metadata": {},
   "outputs": [
    {
     "data": {
      "text/plain": [
       "4"
      ]
     },
     "execution_count": 11,
     "metadata": {},
     "output_type": "execute_result"
    }
   ],
   "source": [
    "s[3]"
   ]
  },
  {
   "cell_type": "code",
   "execution_count": 12,
   "id": "1202ae80",
   "metadata": {},
   "outputs": [
    {
     "data": {
      "text/plain": [
       "5"
      ]
     },
     "execution_count": 12,
     "metadata": {},
     "output_type": "execute_result"
    }
   ],
   "source": [
    "s[4]"
   ]
  },
  {
   "cell_type": "markdown",
   "id": "140e4cb3",
   "metadata": {},
   "source": [
    "###### You can give name to series index"
   ]
  },
  {
   "cell_type": "code",
   "execution_count": 15,
   "id": "63f92c6a",
   "metadata": {},
   "outputs": [
    {
     "data": {
      "text/plain": [
       "A    10\n",
       "B    20\n",
       "C    30\n",
       "D    40\n",
       "E    50\n",
       "dtype: int64"
      ]
     },
     "execution_count": 15,
     "metadata": {},
     "output_type": "execute_result"
    }
   ],
   "source": [
    "l=[10,20,30,40,50]\n",
    "new_s=pd.Series(l,index=['A','B','C','D','E'])\n",
    "new_s"
   ]
  },
  {
   "cell_type": "code",
   "execution_count": 18,
   "id": "8d87d1ec",
   "metadata": {},
   "outputs": [
    {
     "data": {
      "text/plain": [
       "aja    10\n",
       "aka    20\n",
       "shd    30\n",
       "rtd    40\n",
       "rhx    50\n",
       "dtype: int64"
      ]
     },
     "execution_count": 18,
     "metadata": {},
     "output_type": "execute_result"
    }
   ],
   "source": [
    "list1=[1,2,3,4,5]\n",
    "ns=pd.Series(l,index=['aja','aka','shd','rtd','rhx'])\n",
    "ns"
   ]
  },
  {
   "cell_type": "markdown",
   "id": "d5d69bf0",
   "metadata": {},
   "source": [
    "###### Access Items using labels"
   ]
  },
  {
   "cell_type": "code",
   "execution_count": 19,
   "id": "1af55e4f",
   "metadata": {},
   "outputs": [
    {
     "data": {
      "text/plain": [
       "A    10\n",
       "B    20\n",
       "C    30\n",
       "D    40\n",
       "E    50\n",
       "dtype: int64"
      ]
     },
     "execution_count": 19,
     "metadata": {},
     "output_type": "execute_result"
    }
   ],
   "source": [
    "new_s"
   ]
  },
  {
   "cell_type": "code",
   "execution_count": 20,
   "id": "5358ef65",
   "metadata": {},
   "outputs": [
    {
     "data": {
      "text/plain": [
       "10"
      ]
     },
     "execution_count": 20,
     "metadata": {},
     "output_type": "execute_result"
    }
   ],
   "source": [
    "new_s['A']"
   ]
  },
  {
   "cell_type": "code",
   "execution_count": 21,
   "id": "373ea370",
   "metadata": {},
   "outputs": [
    {
     "data": {
      "text/plain": [
       "20"
      ]
     },
     "execution_count": 21,
     "metadata": {},
     "output_type": "execute_result"
    }
   ],
   "source": [
    "new_s['B']"
   ]
  },
  {
   "cell_type": "markdown",
   "id": "61a3c9b2",
   "metadata": {},
   "source": [
    "###### Key/Value Objects as Series"
   ]
  },
  {
   "cell_type": "code",
   "execution_count": 22,
   "id": "e5c2dd41",
   "metadata": {},
   "outputs": [
    {
     "data": {
      "text/plain": [
       "Digvijay    10\n",
       "Umesh       11\n",
       "Rahul       16\n",
       "dtype: int64"
      ]
     },
     "execution_count": 22,
     "metadata": {},
     "output_type": "execute_result"
    }
   ],
   "source": [
    "emp={'Digvijay':10,'Umesh':11,'Rahul':16}\n",
    "emp_s=pd.Series(emp)\n",
    "emp_s"
   ]
  },
  {
   "cell_type": "code",
   "execution_count": 23,
   "id": "395cdca9",
   "metadata": {},
   "outputs": [
    {
     "data": {
      "text/plain": [
       "day1    500\n",
       "day2    380\n",
       "day3    480\n",
       "day4    500\n",
       "dtype: int64"
      ]
     },
     "execution_count": 23,
     "metadata": {},
     "output_type": "execute_result"
    }
   ],
   "source": [
    "calories = {\n",
    "    'day1': 500,\n",
    "    'day2': 380,\n",
    "    'day3': 480,\n",
    "    'day4': 500\n",
    "}\n",
    "\n",
    "cal_s=pd.Series(calories)\n",
    "cal_s"
   ]
  },
  {
   "cell_type": "code",
   "execution_count": 24,
   "id": "98339966",
   "metadata": {},
   "outputs": [
    {
     "data": {
      "text/plain": [
       "480"
      ]
     },
     "execution_count": 24,
     "metadata": {},
     "output_type": "execute_result"
    }
   ],
   "source": [
    "cal_s['day3']"
   ]
  },
  {
   "cell_type": "code",
   "execution_count": 36,
   "id": "933bfc8e",
   "metadata": {},
   "outputs": [
    {
     "data": {
      "text/plain": [
       "day1    500\n",
       "day2    380\n",
       "dtype: int64"
      ]
     },
     "execution_count": 36,
     "metadata": {},
     "output_type": "execute_result"
    }
   ],
   "source": [
    "cal_s_new=pd.Series(cal_s, index=['day1','day2'])\n",
    "cal_s_new"
   ]
  },
  {
   "cell_type": "code",
   "execution_count": 26,
   "id": "7d7b6019",
   "metadata": {},
   "outputs": [
    {
     "data": {
      "text/plain": [
       "380"
      ]
     },
     "execution_count": 26,
     "metadata": {},
     "output_type": "execute_result"
    }
   ],
   "source": [
    "cal_s_new['day2']"
   ]
  },
  {
   "cell_type": "code",
   "execution_count": 29,
   "id": "866a2553",
   "metadata": {},
   "outputs": [],
   "source": [
    "cal_s_new['day1']=2800 # modified series"
   ]
  },
  {
   "cell_type": "code",
   "execution_count": 30,
   "id": "57abc07d",
   "metadata": {},
   "outputs": [
    {
     "data": {
      "text/plain": [
       "day1    2800\n",
       "day2     380\n",
       "dtype: int64"
      ]
     },
     "execution_count": 30,
     "metadata": {},
     "output_type": "execute_result"
    }
   ],
   "source": [
    "cal_s_new"
   ]
  },
  {
   "cell_type": "markdown",
   "id": "ec9d9f08",
   "metadata": {},
   "source": [
    "###### Home work "
   ]
  },
  {
   "cell_type": "code",
   "execution_count": 32,
   "id": "e0a22419",
   "metadata": {},
   "outputs": [
    {
     "data": {
      "text/plain": [
       "0           1\n",
       "1         1.2\n",
       "2        abhi\n",
       "3           2\n",
       "4         2.2\n",
       "5     shourya\n",
       "6           3\n",
       "7         3.3\n",
       "8      atharv\n",
       "9           4\n",
       "10        4.4\n",
       "11       amey\n",
       "dtype: object"
      ]
     },
     "execution_count": 32,
     "metadata": {},
     "output_type": "execute_result"
    }
   ],
   "source": [
    "lst=[1, 1.2, 'abhi', 2, 2.2, 'shourya',3, 3.3, 'atharv', 4, 4.4, 'amey']\n",
    "lst_s=pd.Series(lst)\n",
    "lst_s"
   ]
  },
  {
   "cell_type": "code",
   "execution_count": 38,
   "id": "9ce09836",
   "metadata": {},
   "outputs": [
    {
     "data": {
      "text/plain": [
       "0    1\n",
       "3    2\n",
       "6    3\n",
       "9    4\n",
       "dtype: object"
      ]
     },
     "execution_count": 38,
     "metadata": {},
     "output_type": "execute_result"
    }
   ],
   "source": [
    "int_s=pd.Series(lst_s, index=[0,3,6,9])\n",
    "int_s"
   ]
  },
  {
   "cell_type": "code",
   "execution_count": 43,
   "id": "1bbec873",
   "metadata": {},
   "outputs": [
    {
     "data": {
      "text/plain": [
       "(1, 2, 3, 4)"
      ]
     },
     "execution_count": 43,
     "metadata": {},
     "output_type": "execute_result"
    }
   ],
   "source": [
    "int_s[0], int_s[3], int_s[6], int_s[9]"
   ]
  },
  {
   "cell_type": "code",
   "execution_count": 39,
   "id": "d9affab5",
   "metadata": {},
   "outputs": [
    {
     "data": {
      "text/plain": [
       "1     1.2\n",
       "4     2.2\n",
       "7     3.3\n",
       "10    4.4\n",
       "dtype: object"
      ]
     },
     "execution_count": 39,
     "metadata": {},
     "output_type": "execute_result"
    }
   ],
   "source": [
    "flt_s=pd.Series(lst_s,index=[1,4,7,10])\n",
    "flt_s"
   ]
  },
  {
   "cell_type": "code",
   "execution_count": 44,
   "id": "1c44dfdd",
   "metadata": {},
   "outputs": [
    {
     "data": {
      "text/plain": [
       "(1.2, 2.2, 3.3, 4.4)"
      ]
     },
     "execution_count": 44,
     "metadata": {},
     "output_type": "execute_result"
    }
   ],
   "source": [
    "flt_s[1], flt_s[4], flt_s[7], flt_s[10]"
   ]
  },
  {
   "cell_type": "code",
   "execution_count": 40,
   "id": "d6e8887a",
   "metadata": {},
   "outputs": [
    {
     "data": {
      "text/plain": [
       "2        abhi\n",
       "5     shourya\n",
       "8      atharv\n",
       "11       amey\n",
       "dtype: object"
      ]
     },
     "execution_count": 40,
     "metadata": {},
     "output_type": "execute_result"
    }
   ],
   "source": [
    "str_s=pd.Series(lst_s, index=[2,5,8,11])\n",
    "str_s"
   ]
  },
  {
   "cell_type": "code",
   "execution_count": 45,
   "id": "d387aa80",
   "metadata": {},
   "outputs": [
    {
     "data": {
      "text/plain": [
       "('abhi', 'shourya', 'atharv', 'amey')"
      ]
     },
     "execution_count": 45,
     "metadata": {},
     "output_type": "execute_result"
    }
   ],
   "source": [
    "str_s[2], str_s[5], str_s[8], str_s[11]"
   ]
  },
  {
   "cell_type": "markdown",
   "id": "7833c040",
   "metadata": {},
   "source": [
    "### DataFrame\n",
    "\n",
    "DataFrame : **Data sets in Pandas are usually multi-dimensional tables, called DataFrames**.\n",
    "\n",
    "Series is like a column, a **DataFrame is the whole table.**\n",
    "\n",
    "A Pandas DataFrame is a **2 dimensional data structure, like a 2 dimensional array, or a table with rows and columns.**"
   ]
  },
  {
   "cell_type": "code",
   "execution_count": null,
   "id": "7b9bbf62",
   "metadata": {},
   "outputs": [],
   "source": []
  }
 ],
 "metadata": {
  "kernelspec": {
   "display_name": "Python 3 (ipykernel)",
   "language": "python",
   "name": "python3"
  },
  "language_info": {
   "codemirror_mode": {
    "name": "ipython",
    "version": 3
   },
   "file_extension": ".py",
   "mimetype": "text/x-python",
   "name": "python",
   "nbconvert_exporter": "python",
   "pygments_lexer": "ipython3",
   "version": "3.11.3"
  }
 },
 "nbformat": 4,
 "nbformat_minor": 5
}
